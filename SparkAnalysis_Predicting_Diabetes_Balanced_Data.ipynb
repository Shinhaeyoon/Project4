{
  "cells": [
    {
      "cell_type": "code",
      "execution_count": null,
      "metadata": {
        "colab": {
          "base_uri": "https://localhost:8080/"
        },
        "id": "XojYYF5kU8N4",
        "outputId": "c23b0a87-ccd6-4b58-e0f0-b038d4346ff0"
      },
      "outputs": [
        {
          "name": "stdout",
          "output_type": "stream",
          "text": [
            "\r0% [Working]\r            \rHit:1 https://cloud.r-project.org/bin/linux/ubuntu focal-cran40/ InRelease\n",
            "\r0% [Connecting to archive.ubuntu.com (185.125.190.39)] [Connecting to security.\r                                                                               \rHit:2 https://developer.download.nvidia.com/compute/cuda/repos/ubuntu2004/x86_64  InRelease\n",
            "\r0% [Connecting to archive.ubuntu.com (185.125.190.39)] [Waiting for headers] [C\r                                                                               \rHit:3 http://security.ubuntu.com/ubuntu focal-security InRelease\n",
            "Hit:4 http://archive.ubuntu.com/ubuntu focal InRelease\n",
            "Hit:5 http://ppa.launchpad.net/c2d4u.team/c2d4u4.0+/ubuntu focal InRelease\n",
            "Hit:6 http://archive.ubuntu.com/ubuntu focal-updates InRelease\n",
            "Hit:7 http://archive.ubuntu.com/ubuntu focal-backports InRelease\n",
            "Hit:8 http://ppa.launchpad.net/cran/libgit2/ubuntu focal InRelease\n",
            "Hit:9 http://ppa.launchpad.net/deadsnakes/ppa/ubuntu focal InRelease\n",
            "Hit:10 http://ppa.launchpad.net/graphics-drivers/ppa/ubuntu focal InRelease\n",
            "Hit:11 http://ppa.launchpad.net/ubuntugis/ppa/ubuntu focal InRelease\n",
            "Reading package lists... Done\n"
          ]
        }
      ],
      "source": [
        "import os\n",
        "# Find the latest version of spark 3.x  from http://www.apache.org/dist/spark/ and enter as the spark version\n",
        "# For example:\n",
        "# spark_version = 'spark-3.3.1'\n",
        "spark_version = 'spark-3.4.0'\n",
        "os.environ['SPARK_VERSION']=spark_version\n",
        "\n",
        "# Install Spark and Java\n",
        "!apt-get update\n",
        "!apt-get install openjdk-11-jdk-headless -qq > /dev/null\n",
        "!wget -q http://www.apache.org/dist/spark/$SPARK_VERSION/$SPARK_VERSION-bin-hadoop3.tgz\n",
        "!tar xf $SPARK_VERSION-bin-hadoop3.tgz\n",
        "!pip install -q findspark\n",
        "\n",
        "# Set Environment Variables\n",
        "os.environ[\"JAVA_HOME\"] = \"/usr/lib/jvm/java-11-openjdk-amd64\"\n",
        "os.environ[\"SPARK_HOME\"] = f\"/content/{spark_version}-bin-hadoop3\"\n",
        "\n",
        "# Start a SparkSession\n",
        "import findspark\n",
        "findspark.init()"
      ]
    },
    {
      "cell_type": "code",
      "execution_count": null,
      "metadata": {
        "id": "nsPq5AfQd4ig"
      },
      "outputs": [],
      "source": [
        "# Import packages\n",
        "from pyspark.sql import SparkSession\n",
        "import time\n",
        "\n",
        "# Create a SparkSession\n",
        "spark = SparkSession.builder.appName(\"CSV Import\").getOrCreate()"
      ]
    },
    {
      "cell_type": "code",
      "execution_count": null,
      "metadata": {
        "colab": {
          "base_uri": "https://localhost:8080/"
        },
        "id": "QfqfHUGdWlHb",
        "outputId": "639da20b-2382-48e6-dfcd-269052e251c8"
      },
      "outputs": [
        {
          "name": "stdout",
          "output_type": "stream",
          "text": [
            "Drive already mounted at /content/drive; to attempt to forcibly remount, call drive.mount(\"/content/drive\", force_remount=True).\n"
          ]
        }
      ],
      "source": [
        "from google.colab import drive\n",
        "drive.mount('/content/drive')"
      ]
    },
    {
      "cell_type": "code",
      "execution_count": null,
      "metadata": {
        "id": "VhzqtQQmXwye"
      },
      "outputs": [],
      "source": [
        "csv_path = \"/content/drive/MyDrive/balanced 50\""
      ]
    },
    {
      "cell_type": "code",
      "execution_count": null,
      "metadata": {
        "id": "XvY2JUPpYbsv"
      },
      "outputs": [],
      "source": [
        "df = spark.read.csv(csv_path, header=True, inferSchema=True)"
      ]
    },
    {
      "cell_type": "code",
      "execution_count": null,
      "metadata": {
        "colab": {
          "base_uri": "https://localhost:8080/"
        },
        "id": "08d8w-_wbzNp",
        "outputId": "35d192fb-bf71-4412-e748-bddf6cb9b429"
      },
      "outputs": [
        {
          "name": "stdout",
          "output_type": "stream",
          "text": [
            "root\n",
            " |-- Diabetes_binary: double (nullable = true)\n",
            " |-- HighBP: double (nullable = true)\n",
            " |-- HighChol: double (nullable = true)\n",
            " |-- CholCheck: double (nullable = true)\n",
            " |-- BMI: double (nullable = true)\n",
            " |-- Smoker: double (nullable = true)\n",
            " |-- Stroke: double (nullable = true)\n",
            " |-- HeartDiseaseorAttack: double (nullable = true)\n",
            " |-- PhysActivity: double (nullable = true)\n",
            " |-- Fruits: double (nullable = true)\n",
            " |-- Veggies: double (nullable = true)\n",
            " |-- HvyAlcoholConsump: double (nullable = true)\n",
            " |-- AnyHealthcare: double (nullable = true)\n",
            " |-- NoDocbcCost: double (nullable = true)\n",
            " |-- GenHlth: double (nullable = true)\n",
            " |-- MentHlth: double (nullable = true)\n",
            " |-- PhysHlth: double (nullable = true)\n",
            " |-- DiffWalk: double (nullable = true)\n",
            " |-- Sex: double (nullable = true)\n",
            " |-- Age: double (nullable = true)\n",
            " |-- Education: double (nullable = true)\n",
            " |-- Income: double (nullable = true)\n",
            "\n"
          ]
        }
      ],
      "source": [
        "df.printSchema()"
      ]
    },
    {
      "cell_type": "code",
      "execution_count": null,
      "metadata": {
        "id": "vAp0VGZpu1VY"
      },
      "outputs": [],
      "source": [
        "df.createOrReplaceTempView(\"diabetes\")"
      ]
    },
    {
      "cell_type": "code",
      "execution_count": null,
      "metadata": {
        "id": "YHckDOsq0G4T"
      },
      "outputs": [],
      "source": [
        "columns = df.columns"
      ]
    },
    {
      "cell_type": "code",
      "execution_count": null,
      "metadata": {
        "colab": {
          "base_uri": "https://localhost:8080/"
        },
        "id": "LD3_mhFh0IOO",
        "outputId": "059297d8-bbd2-4891-9f86-7dbdc594cdce"
      },
      "outputs": [
        {
          "name": "stdout",
          "output_type": "stream",
          "text": [
            "+---------------+-----+\n",
            "|Diabetes_binary|count|\n",
            "+---------------+-----+\n",
            "|            0.0|35346|\n",
            "|            1.0|35346|\n",
            "+---------------+-----+\n",
            "\n",
            "+------+-----+\n",
            "|HighBP|count|\n",
            "+------+-----+\n",
            "|   0.0|30860|\n",
            "|   1.0|39832|\n",
            "+------+-----+\n",
            "\n",
            "+--------+-----+\n",
            "|HighChol|count|\n",
            "+--------+-----+\n",
            "|     0.0|33529|\n",
            "|     1.0|37163|\n",
            "+--------+-----+\n",
            "\n",
            "+---------+-----+\n",
            "|CholCheck|count|\n",
            "+---------+-----+\n",
            "|      0.0| 1749|\n",
            "|      1.0|68943|\n",
            "+---------+-----+\n",
            "\n",
            "+----+-----+\n",
            "| BMI|count|\n",
            "+----+-----+\n",
            "|67.0|    8|\n",
            "|70.0|    5|\n",
            "|69.0|    4|\n",
            "|49.0|  195|\n",
            "|98.0|    4|\n",
            "|29.0| 4219|\n",
            "|75.0|    9|\n",
            "|64.0|    9|\n",
            "|47.0|  272|\n",
            "|42.0|  686|\n",
            "|44.0|  456|\n",
            "|35.0| 2107|\n",
            "|62.0|   18|\n",
            "|18.0|  366|\n",
            "|86.0|    1|\n",
            "|80.0|    1|\n",
            "|39.0| 1189|\n",
            "|37.0| 1607|\n",
            "|34.0| 2564|\n",
            "|25.0| 4031|\n",
            "+----+-----+\n",
            "only showing top 20 rows\n",
            "\n",
            "+------+-----+\n",
            "|Smoker|count|\n",
            "+------+-----+\n",
            "|   0.0|37094|\n",
            "|   1.0|33598|\n",
            "+------+-----+\n",
            "\n",
            "+------+-----+\n",
            "|Stroke|count|\n",
            "+------+-----+\n",
            "|   0.0|66297|\n",
            "|   1.0| 4395|\n",
            "+------+-----+\n",
            "\n",
            "+--------------------+-----+\n",
            "|HeartDiseaseorAttack|count|\n",
            "+--------------------+-----+\n",
            "|                 0.0|60243|\n",
            "|                 1.0|10449|\n",
            "+--------------------+-----+\n",
            "\n",
            "+------------+-----+\n",
            "|PhysActivity|count|\n",
            "+------------+-----+\n",
            "|         0.0|20993|\n",
            "|         1.0|49699|\n",
            "+------------+-----+\n",
            "\n",
            "+------+-----+\n",
            "|Fruits|count|\n",
            "+------+-----+\n",
            "|   0.0|27443|\n",
            "|   1.0|43249|\n",
            "+------+-----+\n",
            "\n",
            "+-------+-----+\n",
            "|Veggies|count|\n",
            "+-------+-----+\n",
            "|    0.0|14932|\n",
            "|    1.0|55760|\n",
            "+-------+-----+\n",
            "\n",
            "+-----------------+-----+\n",
            "|HvyAlcoholConsump|count|\n",
            "+-----------------+-----+\n",
            "|              0.0|67672|\n",
            "|              1.0| 3020|\n",
            "+-----------------+-----+\n",
            "\n",
            "+-------------+-----+\n",
            "|AnyHealthcare|count|\n",
            "+-------------+-----+\n",
            "|          0.0| 3184|\n",
            "|          1.0|67508|\n",
            "+-------------+-----+\n",
            "\n",
            "+-----------+-----+\n",
            "|NoDocbcCost|count|\n",
            "+-----------+-----+\n",
            "|        0.0|64053|\n",
            "|        1.0| 6639|\n",
            "+-----------+-----+\n",
            "\n",
            "+-------+-----+\n",
            "|GenHlth|count|\n",
            "+-------+-----+\n",
            "|    1.0| 8282|\n",
            "|    4.0|13303|\n",
            "|    3.0|23427|\n",
            "|    2.0|19872|\n",
            "|    5.0| 5808|\n",
            "+-------+-----+\n",
            "\n",
            "+--------+-----+\n",
            "|MentHlth|count|\n",
            "+--------+-----+\n",
            "|     8.0|  198|\n",
            "|     0.0|48091|\n",
            "|     7.0|  825|\n",
            "|    29.0|   53|\n",
            "|    18.0|   42|\n",
            "|     1.0| 2051|\n",
            "|    25.0|  425|\n",
            "|     4.0|  981|\n",
            "|    23.0|   13|\n",
            "|    11.0|    8|\n",
            "|    21.0|   84|\n",
            "|    14.0|  353|\n",
            "|    22.0|   22|\n",
            "|     3.0| 1967|\n",
            "|    19.0|    7|\n",
            "|    28.0|   99|\n",
            "|     2.0| 3267|\n",
            "|    17.0|   18|\n",
            "|    27.0|   17|\n",
            "|    10.0| 1924|\n",
            "+--------+-----+\n",
            "only showing top 20 rows\n",
            "\n",
            "+--------+-----+\n",
            "|PhysHlth|count|\n",
            "+--------+-----+\n",
            "|     8.0|  276|\n",
            "|     0.0|39915|\n",
            "|     7.0| 1326|\n",
            "|    29.0|   95|\n",
            "|    18.0|   50|\n",
            "|     1.0| 2853|\n",
            "|    25.0|  557|\n",
            "|     4.0| 1376|\n",
            "|    23.0|   27|\n",
            "|    11.0|   22|\n",
            "|    21.0|  229|\n",
            "|    14.0|  802|\n",
            "|    22.0|   31|\n",
            "|     3.0| 2438|\n",
            "|    19.0|   10|\n",
            "|    28.0|  211|\n",
            "|     2.0| 4102|\n",
            "|    17.0|   35|\n",
            "|    27.0|   34|\n",
            "|    10.0| 1980|\n",
            "+--------+-----+\n",
            "only showing top 20 rows\n",
            "\n",
            "+--------+-----+\n",
            "|DiffWalk|count|\n",
            "+--------+-----+\n",
            "|     0.0|52826|\n",
            "|     1.0|17866|\n",
            "+--------+-----+\n",
            "\n",
            "+---+-----+\n",
            "|Sex|count|\n",
            "+---+-----+\n",
            "|0.0|38386|\n",
            "|1.0|32306|\n",
            "+---+-----+\n",
            "\n",
            "+----+-----+\n",
            "| Age|count|\n",
            "+----+-----+\n",
            "| 8.0| 8603|\n",
            "| 7.0| 6872|\n",
            "| 1.0|  979|\n",
            "| 4.0| 2793|\n",
            "|11.0| 8044|\n",
            "| 3.0| 2049|\n",
            "| 2.0| 1396|\n",
            "|10.0|10856|\n",
            "|13.0| 5426|\n",
            "| 6.0| 4648|\n",
            "| 5.0| 3520|\n",
            "| 9.0|10112|\n",
            "|12.0| 5394|\n",
            "+----+-----+\n",
            "\n",
            "+---------+-----+\n",
            "|Education|count|\n",
            "+---------+-----+\n",
            "|      1.0|   75|\n",
            "|      4.0|19473|\n",
            "|      3.0| 3447|\n",
            "|      2.0| 1647|\n",
            "|      6.0|26020|\n",
            "|      5.0|20030|\n",
            "+---------+-----+\n",
            "\n",
            "+------+-----+\n",
            "|Income|count|\n",
            "+------+-----+\n",
            "|   8.0|20646|\n",
            "|   7.0|11425|\n",
            "|   1.0| 3611|\n",
            "|   4.0| 6658|\n",
            "|   3.0| 5557|\n",
            "|   2.0| 4498|\n",
            "|   6.0|10287|\n",
            "|   5.0| 8010|\n",
            "+------+-----+\n",
            "\n"
          ]
        }
      ],
      "source": [
        "for column in columns:\n",
        "    result = spark.sql(f\"SELECT {column}, COUNT(*) AS count FROM diabetes GROUP BY {column}\")\n",
        "    result.show()\n"
      ]
    },
    {
      "cell_type": "code",
      "execution_count": null,
      "metadata": {
        "id": "xi2PWtupF-em"
      },
      "outputs": [],
      "source": []
    }
  ],
  "metadata": {
    "colab": {
      "provenance": []
    },
    "kernelspec": {
      "display_name": "Python 3",
      "name": "python3"
    },
    "language_info": {
      "name": "python"
    }
  },
  "nbformat": 4,
  "nbformat_minor": 0
}
